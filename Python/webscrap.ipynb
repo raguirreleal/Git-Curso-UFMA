{
  "cells": [
    {
      "cell_type": "code",
      "execution_count": null,
      "metadata": {
        "id": "dK99BwJzuH1C"
      },
      "outputs": [],
      "source": [
        "!pip install pandas\n",
        "!pip install selenium\n",
        "!pip install webdriver-manager"
      ]
    },
    {
      "cell_type": "code",
      "execution_count": 2,
      "metadata": {
        "id": "3tSjRa0NQsN1"
      },
      "outputs": [],
      "source": [
        "import pandas as pd\n",
        "from selenium import webdriver\n",
        "from selenium.webdriver.chrome.service import Service\n",
        "from selenium.webdriver.common.by import By\n",
        "from selenium.webdriver.support.ui import Select\n",
        "from selenium.webdriver.support.ui import WebDriverWait\n",
        "from selenium.webdriver.support import expected_conditions as EC\n",
        "from webdriver_manager.chrome import ChromeDriverManager"
      ]
    },
    {
      "cell_type": "code",
      "execution_count": 4,
      "metadata": {},
      "outputs": [
        {
          "name": "stdout",
          "output_type": "stream",
          "text": [
            "4\n"
          ]
        }
      ],
      "source": [
        "print(2*2)"
      ]
    },
    {
      "cell_type": "code",
      "execution_count": 7,
      "metadata": {
        "id": "gkigwFRqtSYA"
      },
      "outputs": [],
      "source": [
        "# Carregar a planilha\n",
        "# No Google Colab, fazer upload do arquivo primeiro\n",
        "file_path = 'QualisEcon2020.xlsx'\n",
        "df = pd.read_excel(file_path)"
      ]
    },
    {
      "cell_type": "code",
      "execution_count": 8,
      "metadata": {
        "id": "p3OCzJD7tT_3"
      },
      "outputs": [],
      "source": [
        "# Converter a coluna \"Econ\" para o tipo object para evitar problemas de tipo\n",
        "df['Econ'] = df['Econ'].astype(object)"
      ]
    },
    {
      "cell_type": "code",
      "execution_count": 9,
      "metadata": {
        "id": "F-r_rRNstWes"
      },
      "outputs": [],
      "source": [
        "# Configurar o serviço do ChromeDriver usando webdriver-manager\n",
        "service = Service(ChromeDriverManager().install())"
      ]
    },
    {
      "cell_type": "code",
      "execution_count": null,
      "metadata": {
        "id": "LnhIou_ctcaB"
      },
      "outputs": [],
      "source": [
        "# Configurar o driver do Chrome\n",
        "driver = webdriver.Chrome(service=service)"
      ]
    },
    {
      "cell_type": "code",
      "execution_count": null,
      "metadata": {
        "id": "NgpfSrLEtd9p"
      },
      "outputs": [],
      "source": [
        "# URL do site\n",
        "url = \"https://sucupira.capes.gov.br/sucupira/public/consultas/coleta/veiculoPublicacaoQualis/listaConsultaGeralPeriodicos.jsf\"\n"
      ]
    },
    {
      "cell_type": "code",
      "execution_count": null,
      "metadata": {
        "id": "HiS5Zacytfas"
      },
      "outputs": [],
      "source": [
        "# Função para consultar e obter o último <td> texto para um ISSN específico\n",
        "def consultar_issn(issn):\n",
        "    driver.get(url)\n",
        "\n",
        "    # Esperar até que a dropdown \"Evento de Classificação\" esteja presente na página\n",
        "    WebDriverWait(driver, 10).until(\n",
        "        EC.presence_of_element_located((By.ID, \"form:evento\"))\n",
        "    )\n",
        "\n",
        "    # Selecionar o \"Evento de Classificação\"\n",
        "    evento_select = Select(driver.find_element(By.ID, \"form:evento\"))\n",
        "    evento_select.select_by_visible_text(\"CLASSIFICAÇÕES DE PERIÓDICOS QUADRIÊNIO 2017-2020\")\n",
        "\n",
        "    # Selecionar o \"ISSN\" e atribuir o valor\n",
        "    issn_checkbox = driver.find_element(By.ID, \"form:checkIssn\")\n",
        "    issn_checkbox.click()\n",
        "    issn_input = driver.find_element(By.ID, \"form:issn:issn\")\n",
        "    issn_input.clear()  # Limpar o campo antes de inserir o novo ISSN\n",
        "    issn_input.send_keys(issn)\n",
        "\n",
        "    # Clicar no botão \"Consultar\"\n",
        "    consultar_button = driver.find_element(By.ID, \"form:consultar\")\n",
        "    consultar_button.click()\n",
        "\n",
        "    # Re-encontrar a div \"resultados\" após clicar em consultar para evitar StaleElementReferenceException\n",
        "    WebDriverWait(driver, 10).until(\n",
        "        EC.presence_of_element_located((By.CLASS_NAME, \"resultados\"))\n",
        "    )\n",
        "\n",
        "    # Encontrar o tbody dentro da div \"resultados\"\n",
        "    resultados_tbody = driver.find_element(By.XPATH, \"//div[@class='resultados']//tbody\")\n",
        "\n",
        "    # Pegar o último <td> do primeiro <tr>\n",
        "    primeiro_tr = resultados_tbody.find_element(By.TAG_NAME, \"tr\")\n",
        "    ultimo_td = primeiro_tr.find_elements(By.TAG_NAME, \"td\")[-1]\n",
        "\n",
        "    return ultimo_td.text"
      ]
    },
    {
      "cell_type": "code",
      "execution_count": null,
      "metadata": {
        "id": "esiD0di1th_O"
      },
      "outputs": [],
      "source": [
        "# Iterar sobre a lista de ISSNs e atualizar a coluna \"Econ\" conforme necessário\n",
        "for index, row in df.iterrows():\n",
        "    issn = row['ISSN']\n",
        "    try:\n",
        "        resultado = consultar_issn(issn)\n",
        "        if resultado == \"ECONOMIA\":\n",
        "            df.at[index, 'Econ'] = \"ECONOMIA\"\n",
        "    except Exception as e:\n",
        "        print(f\"Erro ao consultar ISSN {issn}: {e}\")\n",
        "\n",
        "# Fechar o navegador\n",
        "driver.quit()"
      ]
    },
    {
      "cell_type": "code",
      "execution_count": null,
      "metadata": {
        "id": "ugvhIsyztkg_"
      },
      "outputs": [],
      "source": [
        "# Salvar o dataframe atualizado de volta em uma planilha\n",
        "output_file_path = 'qualis_econ_2020_atualizado.xlsx'\n",
        "df.to_excel(output_file_path, index=False)"
      ]
    }
  ],
  "metadata": {
    "colab": {
      "provenance": []
    },
    "kernelspec": {
      "display_name": "Python 3",
      "name": "python3"
    },
    "language_info": {
      "codemirror_mode": {
        "name": "ipython",
        "version": 3
      },
      "file_extension": ".py",
      "mimetype": "text/x-python",
      "name": "python",
      "nbconvert_exporter": "python",
      "pygments_lexer": "ipython3",
      "version": "3.12.4"
    }
  },
  "nbformat": 4,
  "nbformat_minor": 0
}
